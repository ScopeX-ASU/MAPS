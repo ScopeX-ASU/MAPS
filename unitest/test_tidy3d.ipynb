{
 "cells": [
  {
   "cell_type": "markdown",
   "metadata": {},
   "source": [
    "# 2D ring resonator\n",
    "\n",
    "View this project in [Tidy3D Web App](https://tidy3d.simulation.cloud/workbench?taskId=4b6c5361-8274-4a9b-8d4d-e0c51f31ef6f).\n",
    "\n",
    "This is a simple example of using Tidy3D to perform a 2D simulation of a ring resonator side coupled to a dielectric waveguide.\n",
    "\n",
    "<img src=\"img/ring.png\" alt=\"diagram\" width=\"300\"/>\n",
    "\n",
    "With a center wavelength of 500 nm and 10 nm resolution, this is a challenging FDTD problem because of the large simulation size and the large number of time steps needed to capture the resonance of the ring. However, it can be easily handled with Tidy3D.\n",
    "\n",
    "For more integrated photonic examples such as the [8-Channel mode and polarization de-multiplexer](https://www.flexcompute.com/tidy3d/examples/notebooks/8ChannelDemultiplexer/), the [broadband bi-level taper polarization rotator-splitter](https://www.flexcompute.com/tidy3d/examples/notebooks/BilevelPSR/), and the [broadband directional coupler](https://www.flexcompute.com/tidy3d/examples/notebooks/BroadbandDirectionalCoupler/), please visit our [examples page](https://www.flexcompute.com/tidy3d/examples/). If you are interested in ring resonator simulation in 3D, please check out the [THz filter](https://www.flexcompute.com/tidy3d/examples/notebooks/THzDemultiplexerFilter/) case study.\n",
    "\n",
    "If you are new to the finite-difference time-domain (FDTD) method, we highly recommend going through our [FDTD101](https://www.flexcompute.com/fdtd101/) tutorials. FDTD simulations can diverge due to various reasons. If you run into any simulation divergence issues, please follow the steps outlined in our [troubleshooting guide](https://www.flexcompute.com/tidy3d/examples/notebooks/DivergedFDTDSimulation/) to resolve it."
   ]
  },
  {
   "cell_type": "code",
   "execution_count": null,
   "metadata": {
    "tags": []
   },
   "outputs": [],
   "source": [
    "# standard python imports\n",
    "import numpy as np\n",
    "from numpy import random\n",
    "import matplotlib.pyplot as plt\n",
    "\n",
    "# tidy3D import\n",
    "# import tidy3d.web as web\n",
    "import tidy3d as td"
   ]
  },
  {
   "cell_type": "markdown",
   "metadata": {},
   "source": [
    "## Initial setup\n",
    "\n",
    "Our ring resonator will include a ring centered at (0,0) with a waveguide just above the ring spanning the x direction.\n",
    "\n",
    "<img src=\"img/ring_resonator_schematic.png\" alt=\"schematic\" width=\"300\"/>"
   ]
  },
  {
   "cell_type": "code",
   "execution_count": null,
   "metadata": {
    "tags": []
   },
   "outputs": [],
   "source": [
    "# define geometry\n",
    "wg_width = 0.25\n",
    "couple_width = 0.13\n",
    "ring_radius = 2.5\n",
    "ring_wg_width = 0.25\n",
    "wg_spacing = 0.5\n",
    "buffer = 1.0\n",
    "\n",
    "# compute quantities based on geometry parameters\n",
    "x_span = 2 * wg_spacing + 2 * ring_radius + 2 * buffer\n",
    "y_span = 2 * ring_radius + ring_wg_width + wg_width + couple_width + 2 * buffer\n",
    "sim_center_y = (couple_width + wg_width) / 2\n",
    "wg_insert_x = ring_radius + wg_spacing\n",
    "wg_center_y = ring_radius + ring_wg_width / 2.0 + couple_width + wg_width / 2.0"
   ]
  },
  {
   "cell_type": "markdown",
   "metadata": {},
   "source": [
    "Define frequency parameters for sources and monitors based on the wavelength range of interest. Since in this case study we are investigating the system's response over a wide range of frequencies we will use a broadband mode source that takes into account frequency-dependent character of waveguide modes. The Tidy3D's broadband feature is designed in such a way that it produces the most accurate results in the range `(freq0 - 1.5 * fwidth, freq0 + 1.5 * fwidth)`, thus we define parameters `freq0` and `fwidth` such that the frequency range of interest is exactly covered by `(freq0 - 1.5 * fwidth, freq0 + 1.5 * fwidth)`."
   ]
  },
  {
   "cell_type": "code",
   "execution_count": null,
   "metadata": {
    "tags": []
   },
   "outputs": [],
   "source": [
    "# wavelength range of interest\n",
    "lambda_beg = 0.5\n",
    "lambda_end = 0.6\n",
    "\n",
    "# define pulse parameters\n",
    "freq_beg = td.C_0 / lambda_end\n",
    "freq_end = td.C_0 / lambda_beg\n",
    "freq0 = (freq_beg + freq_end) / 2\n",
    "fwidth = (freq_end - freq0) / 1.5\n",
    "\n",
    "min_steps_per_wvl = 30\n",
    "run_time = 15e-12"
   ]
  },
  {
   "cell_type": "markdown",
   "metadata": {},
   "source": [
    "Define [materials](../_autosummary/tidy3d.Medium.html)."
   ]
  },
  {
   "cell_type": "code",
   "execution_count": null,
   "metadata": {
    "tags": []
   },
   "outputs": [],
   "source": [
    "n_bg = 1.0\n",
    "n_solid = 1.5\n",
    "background = td.Medium(permittivity=n_bg**2)\n",
    "solid = td.Medium(permittivity=n_solid**2)"
   ]
  },
  {
   "cell_type": "markdown",
   "metadata": {},
   "source": [
    "Define [structures](../_autosummary/tidy3d.Structure.html).\n"
   ]
  },
  {
   "cell_type": "code",
   "execution_count": null,
   "metadata": {
    "tags": []
   },
   "outputs": [],
   "source": [
    "# waveguide\n",
    "waveguide = td.Structure(\n",
    "    geometry=td.Box(\n",
    "        center=[0, wg_center_y, 0],\n",
    "        size=[td.inf, wg_width, td.inf],\n",
    "    ),\n",
    "    medium=solid,\n",
    "    name=\"waveguide\",\n",
    ")\n",
    "\n",
    "# outer ring boundary\n",
    "outer = td.Cylinder(\n",
    "    center=[0, 0, 0],\n",
    "    axis=2,\n",
    "    radius=ring_radius + ring_wg_width / 2.0,\n",
    "    length=td.inf,\n",
    ")\n",
    "\n",
    "# inner ring boundary\n",
    "inner = td.Cylinder(\n",
    "    center=[0, 0, 0],\n",
    "    axis=2,\n",
    "    radius=ring_radius - ring_wg_width / 2.0,\n",
    "    length=td.inf,\n",
    ")\n",
    "\n",
    "ring = td.Structure(\n",
    "    geometry=outer - inner,\n",
    "    medium=solid,\n",
    "    name=\"outer_ring\",\n",
    ")"
   ]
  },
  {
   "cell_type": "markdown",
   "metadata": {},
   "source": [
    "Compute and visualize the waveguide modes."
   ]
  },
  {
   "cell_type": "code",
   "execution_count": null,
   "metadata": {
    "tags": []
   },
   "outputs": [
    {
     "ename": "AttributeError",
     "evalue": "'ModeSolver' object has no attribute 'run'",
     "output_type": "error",
     "traceback": [
      "\u001b[0;31m---------------------------------------------------------------------------\u001b[0m",
      "\u001b[0;31mAttributeError\u001b[0m                            Traceback (most recent call last)",
      "\u001b[1;32m/home/scopex02/jiaqigu/projects/NeurOLight_Local/unitest/test_tidy3d.ipynb Cell 12\u001b[0m line \u001b[0;36m2\n\u001b[1;32m     <a href='vscode-notebook-cell://ssh-remote%2Bscopex02/home/scopex02/jiaqigu/projects/NeurOLight_Local/unitest/test_tidy3d.ipynb#X14sdnNjb2RlLXJlbW90ZQ%3D%3D?line=21'>22</a>\u001b[0m mode_solver \u001b[39m=\u001b[39m ModeSolver(\n\u001b[1;32m     <a href='vscode-notebook-cell://ssh-remote%2Bscopex02/home/scopex02/jiaqigu/projects/NeurOLight_Local/unitest/test_tidy3d.ipynb#X14sdnNjb2RlLXJlbW90ZQ%3D%3D?line=22'>23</a>\u001b[0m     simulation\u001b[39m=\u001b[39msim_modesolver, plane\u001b[39m=\u001b[39mmode_plane, mode_spec\u001b[39m=\u001b[39mmode_spec, freqs\u001b[39m=\u001b[39m[freq0]\n\u001b[1;32m     <a href='vscode-notebook-cell://ssh-remote%2Bscopex02/home/scopex02/jiaqigu/projects/NeurOLight_Local/unitest/test_tidy3d.ipynb#X14sdnNjb2RlLXJlbW90ZQ%3D%3D?line=23'>24</a>\u001b[0m )\n\u001b[1;32m     <a href='vscode-notebook-cell://ssh-remote%2Bscopex02/home/scopex02/jiaqigu/projects/NeurOLight_Local/unitest/test_tidy3d.ipynb#X14sdnNjb2RlLXJlbW90ZQ%3D%3D?line=24'>25</a>\u001b[0m \u001b[39m# mode_data = run_ms(mode_solver)\u001b[39;00m\n\u001b[0;32m---> <a href='vscode-notebook-cell://ssh-remote%2Bscopex02/home/scopex02/jiaqigu/projects/NeurOLight_Local/unitest/test_tidy3d.ipynb#X14sdnNjb2RlLXJlbW90ZQ%3D%3D?line=25'>26</a>\u001b[0m mode_data \u001b[39m=\u001b[39m mode_solver\u001b[39m.\u001b[39;49mrun()\n",
      "\u001b[0;31mAttributeError\u001b[0m: 'ModeSolver' object has no attribute 'run'"
     ]
    }
   ],
   "source": [
    "from tidy3d.plugins.mode import ModeSolver\n",
    "\n",
    "# from tidy3d.plugins.mode.web import run as run_ms\n",
    "\n",
    "mode_plane = td.Box(\n",
    "    center=[-wg_insert_x, wg_center_y, 0],\n",
    "    size=[0, 2, td.inf],\n",
    ")\n",
    "\n",
    "sim_modesolver = td.Simulation(\n",
    "    center=[0, sim_center_y, 0],\n",
    "    size=[x_span, y_span, 0],\n",
    "    grid_spec=td.GridSpec.auto(\n",
    "        min_steps_per_wvl=min_steps_per_wvl, wavelength=td.C_0 / freq0\n",
    "    ),\n",
    "    structures=[waveguide],\n",
    "    run_time=1e-12,\n",
    "    boundary_spec=td.BoundarySpec.all_sides(boundary=td.Periodic()),\n",
    "    medium=background,\n",
    ")\n",
    "\n",
    "mode_spec = td.ModeSpec(num_modes=2)\n",
    "mode_solver = ModeSolver(\n",
    "    simulation=sim_modesolver, plane=mode_plane, mode_spec=mode_spec, freqs=[freq0]\n",
    ")\n",
    "# mode_data = run_ms(mode_solver)\n",
    "mode_data = mode_solver.solve()"
   ]
  },
  {
   "cell_type": "markdown",
   "metadata": {},
   "source": [
    "Tidy3D is warning us that the simulation does not contain a source. However, since this simulation is used to construct the mode solver and will not be run directly, we can ignore this warning."
   ]
  },
  {
   "cell_type": "code",
   "execution_count": null,
   "metadata": {},
   "outputs": [],
   "source": [
    "f, ((ax1, ax2, ax3), (ax4, ax5, ax6)) = plt.subplots(\n",
    "    2, 3, tight_layout=True, figsize=(10, 6)\n",
    ")\n",
    "mode_data.Ex.sel(mode_index=0, f=freq0).abs.plot(ax=ax1)\n",
    "mode_data.Ey.sel(mode_index=0, f=freq0).abs.plot(ax=ax2)\n",
    "mode_data.Ez.sel(mode_index=0, f=freq0).abs.plot(ax=ax3)\n",
    "mode_data.Ex.sel(mode_index=1, f=freq0).abs.plot(ax=ax4)\n",
    "mode_data.Ey.sel(mode_index=1, f=freq0).abs.plot(ax=ax5)\n",
    "mode_data.Ez.sel(mode_index=1, f=freq0).abs.plot(ax=ax6)\n",
    "ax1.set_title(\"|Ex|: mode_index=0\")\n",
    "ax2.set_title(\"|Ey|: mode_index=0\")\n",
    "ax3.set_title(\"|Ez|: mode_index=0\")\n",
    "ax4.set_title(\"|Ex|: mode_index=1\")\n",
    "ax5.set_title(\"|Ey|: mode_index=1\")\n",
    "ax6.set_title(\"|Ez|: mode_index=1\")\n",
    "\n",
    "mode_data.to_dataframe()"
   ]
  },
  {
   "cell_type": "markdown",
   "metadata": {},
   "source": [
    "From the above plots, we see that \n",
    "\n",
    "`mode_index=0` corresponds to exciting 0-th order TM mode (E=Ez) and \n",
    "\n",
    "`mode_index=1` corresponds to exciting 0-th order TE mode (E=Ey).\n",
    "\n",
    "We can therefore switch the mode index accordingly based on our polarization.\n",
    "\n",
    "Let's select Ey and create the source for it. As mentioned before, we will use a broadband mode source that will approximate the chosen mode's frequency dependence in the range `(freq0 - 1.5 * fwidth, freq0 + 1.5 * fwidth)` using 11 Chebyshev polynomials."
   ]
  },
  {
   "cell_type": "code",
   "execution_count": null,
   "metadata": {},
   "outputs": [],
   "source": [
    "mode_source = td.ModeSource(\n",
    "    size=mode_plane.size,\n",
    "    center=mode_plane.center,\n",
    "    source_time=td.GaussianPulse(freq0=freq0, fwidth=fwidth),\n",
    "    mode_spec=td.ModeSpec(num_modes=2),\n",
    "    mode_index=1,\n",
    "    direction=\"+\",\n",
    "    num_freqs=11,  # using 11 (Chebyshev) points to approximate frequency dependence\n",
    ")"
   ]
  },
  {
   "cell_type": "markdown",
   "metadata": {},
   "source": [
    "In addition, let's monitor both the fields in plane as well as the output mode amplitudes into the fundamental TE mode."
   ]
  },
  {
   "cell_type": "code",
   "execution_count": null,
   "metadata": {
    "tags": []
   },
   "outputs": [],
   "source": [
    "# monitor steady state fields at central frequency over whole domain\n",
    "field_monitor = td.FieldMonitor(\n",
    "    center=[0, 0, 0], size=[td.inf, td.inf, 0], freqs=[freq0], name=\"field\"\n",
    ")\n",
    "\n",
    "\n",
    "# monitor the mode amps on the output waveguide\n",
    "lambdas_measure = np.linspace(lambda_beg, lambda_end, 1001)\n",
    "freqs_measure = td.C_0 / lambdas_measure[::-1]\n",
    "\n",
    "mode_monitor = td.ModeMonitor(\n",
    "    size=mode_plane.size,\n",
    "    center=mode_plane.center,\n",
    "    freqs=freqs_measure,\n",
    "    mode_spec=td.ModeSpec(num_modes=2),\n",
    "    name=\"mode\",\n",
    ")\n",
    "\n",
    "# lets reset the center to the on the right hand side of the simulation though\n",
    "mode_monitor = mode_monitor.copy(update=dict(center=[wg_insert_x, wg_center_y, 0]))"
   ]
  },
  {
   "cell_type": "markdown",
   "metadata": {},
   "source": [
    "Define [simulation](../_autosummary/tidy3d.Simulation.html).\n",
    "To make the simulation 2D, we can just set the simulation size in one of the dimensions to be 0. However, note that we still have to define a grid size in that direction. Additionally, we lower the shutoff factor to make sure the high-frequency response of this resonant system is accurately resolved."
   ]
  },
  {
   "cell_type": "code",
   "execution_count": null,
   "metadata": {
    "tags": []
   },
   "outputs": [],
   "source": [
    "# create simulation\n",
    "sim = td.Simulation(\n",
    "    center=[0, sim_center_y, 0],\n",
    "    size=[x_span, y_span, 0],\n",
    "    grid_spec=td.GridSpec.auto(\n",
    "        min_steps_per_wvl=min_steps_per_wvl, wavelength=td.C_0 / freq0\n",
    "    ),\n",
    "    structures=[waveguide, ring],\n",
    "    sources=[mode_source],\n",
    "    monitors=[field_monitor, mode_monitor],\n",
    "    run_time=run_time,\n",
    "    boundary_spec=td.BoundarySpec(\n",
    "        x=td.Boundary.pml(), y=td.Boundary.pml(), z=td.Boundary.periodic()\n",
    "    ),\n",
    "    medium=background,\n",
    "    shutoff=1e-9,\n",
    ")"
   ]
  },
  {
   "cell_type": "markdown",
   "metadata": {},
   "source": [
    "Visualize structure, source, and modes."
   ]
  },
  {
   "cell_type": "code",
   "execution_count": null,
   "metadata": {
    "tags": []
   },
   "outputs": [],
   "source": [
    "# plot the two simulations\n",
    "fig, ax = plt.subplots(1, 1, figsize=(6, 6))\n",
    "sim.plot_eps(z=0.01, ax=ax)\n",
    "plt.show()"
   ]
  },
  {
   "cell_type": "markdown",
   "metadata": {},
   "source": [
    "## Run Simulation\n",
    "Run simulations on our server. "
   ]
  },
  {
   "cell_type": "code",
   "execution_count": null,
   "metadata": {
    "tags": []
   },
   "outputs": [],
   "source": [
    "# use function above to run simulation\n",
    "# sim_data = web.run(\n",
    "#     sim, task_name=\"ring_resonator\", path=\"data/simulation_data.hdf5\", verbose=True\n",
    "# )\n",
    "sim_data = sim.run(task_name=\"ring_resonator\", overwrite=True, verbose=True)"
   ]
  },
  {
   "cell_type": "code",
   "execution_count": null,
   "metadata": {},
   "outputs": [],
   "source": [
    "# visualize normalization run\n",
    "fig, (ax1, ax2) = plt.subplots(1, 2, tight_layout=True, figsize=(15, 6))\n",
    "\n",
    "ax1 = sim_data.plot_field(\"field\", \"Hz\", val=\"real\", z=0, ax=ax1)\n",
    "ax2 = sim_data.plot_field(\"field\", \"S\", val=\"abs\", z=0, ax=ax2)\n",
    "\n",
    "plt.show()"
   ]
  },
  {
   "cell_type": "markdown",
   "metadata": {},
   "source": [
    "## Analyze Spectrum\n",
    "\n",
    "Now let's analyze the mode amplitudes in the output waveguide.\n",
    "\n",
    "First, let's grab the data to inspect it."
   ]
  },
  {
   "cell_type": "code",
   "execution_count": null,
   "metadata": {},
   "outputs": [],
   "source": [
    "sim_data[\"mode\"].amps"
   ]
  },
  {
   "cell_type": "markdown",
   "metadata": {},
   "source": [
    "As we see, the mode amplitude data is complex-valued with three 3 dimensions:\n",
    "\n",
    "- index into the mode order returned by solver (remember, we wanted mode_index=1 for fundamental TE).\n",
    "\n",
    "- direction of the propagation (for decomposition).\n",
    "\n",
    "- frequency.\n",
    "\n",
    "Let's select into the first two dimensions to get mode amplitudes as a function of frequency."
   ]
  },
  {
   "cell_type": "code",
   "execution_count": null,
   "metadata": {},
   "outputs": [],
   "source": [
    "transmission_amps = sim_data[\"mode\"].amps.sel(mode_index=1, direction=\"+\")"
   ]
  },
  {
   "cell_type": "markdown",
   "metadata": {},
   "source": [
    "Now let's plot the data."
   ]
  },
  {
   "cell_type": "code",
   "execution_count": null,
   "metadata": {},
   "outputs": [],
   "source": [
    "f, ax = plt.subplots(figsize=(10, 5))\n",
    "transmission_amps.abs.plot.line(x=\"f\", ax=ax, label=\"absolute value\")\n",
    "# transmission_amps.real.abs.plot.line(x='f', ax=ax, label='|real|')\n",
    "ax.legend()\n",
    "ax.set_title(\"transmission amplitudes into fundamental TE (forward)\")\n",
    "ax.set_ylim(0, None)\n",
    "ax.set_xlim(freqs_measure[0], freqs_measure[-1])\n",
    "plt.show()"
   ]
  }
 ],
 "metadata": {
  "description": "This notebook demonstrates how to model a 2D ring resonator in Tidy3D FDTD.",
  "feature_image": "./img/ring_resonator_2d.png",
  "keywords": "ring resonator, Tidy3D, FDTD",
  "language_info": {
   "codemirror_mode": {
    "name": "ipython",
    "version": 3
   },
   "file_extension": ".py",
   "mimetype": "text/x-python",
   "name": "python",
   "nbconvert_exporter": "python",
   "pygments_lexer": "ipython3"
  },
  "title": "2D Ring Resonator Modeling in Tidy3D | Flexcompute"
 },
 "nbformat": 4,
 "nbformat_minor": 4
}
